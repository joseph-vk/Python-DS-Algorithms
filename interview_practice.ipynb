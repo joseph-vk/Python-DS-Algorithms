{
 "cells": [
  {
   "cell_type": "code",
   "execution_count": 66,
   "metadata": {},
   "outputs": [],
   "source": [
    "import pandas as pd\n",
    "from typing import Any\n",
    "from random import randint, choice"
   ]
  },
  {
   "cell_type": "code",
   "execution_count": 12,
   "metadata": {},
   "outputs": [
    {
     "data": {
      "text/plain": [
       "[1, 1, 2, 3]"
      ]
     },
     "execution_count": 12,
     "metadata": {},
     "output_type": "execute_result"
    }
   ],
   "source": [
    "# write a program that prints out all the elements of the list that are less than 5.\n",
    "a = [1, 1, 2, 3, 5, 8, 13, 21, 34, 55, 89]\n",
    "\n",
    "[item for item in a if item < 5]"
   ]
  },
  {
   "cell_type": "code",
   "execution_count": 13,
   "metadata": {},
   "outputs": [],
   "source": [
    "def filter_list(input: list[int], threshold:int) -> list[int]:\n",
    "    return [item for item in input if item < threshold]"
   ]
  },
  {
   "cell_type": "markdown",
   "metadata": {},
   "source": [
    "Create a program that asks the user for a number and then prints out a list of all the divisors of that number. (If you don’t know what a divisor is, it is a number that divides evenly into another number. For example, 13 is a divisor of 26 because 26 / 13 has no remainder.)\n"
   ]
  },
  {
   "cell_type": "code",
   "execution_count": 35,
   "metadata": {},
   "outputs": [],
   "source": [
    "def find_divisors(num: int) -> list[int]:\n",
    "    if num == 1:\n",
    "        return 1\n",
    "    accumulator: list[int] = []\n",
    "    for elem in range(2,int(num/2) + 1):\n",
    "        if num % elem == 0:\n",
    "            accumulator.append(elem)\n",
    "    return accumulator\n",
    "\n",
    "\n",
    "    \n"
   ]
  },
  {
   "cell_type": "code",
   "execution_count": null,
   "metadata": {},
   "outputs": [
    {
     "data": {
      "text/plain": [
       "[2, 7]"
      ]
     },
     "execution_count": 37,
     "metadata": {},
     "output_type": "execute_result"
    }
   ],
   "source": [
    "find_divisors(14)"
   ]
  },
  {
   "cell_type": "markdown",
   "metadata": {},
   "source": [
    "Write a program that returns a list that contains only the elements that are common between the lists (without duplicates). Make sure your program works on two lists of different sizes.\n"
   ]
  },
  {
   "cell_type": "code",
   "execution_count": 38,
   "metadata": {},
   "outputs": [],
   "source": [
    "a = [1, 1, 2, 3, 5, 8, 13, 21, 34, 55, 89]\n",
    "b = [1, 2, 3, 4, 5, 6, 7, 8, 9, 10, 11, 12, 13]"
   ]
  },
  {
   "cell_type": "code",
   "execution_count": 48,
   "metadata": {},
   "outputs": [],
   "source": [
    "def find_common(list1: list[Any], list2: list[Any]) -> list[Any]:\n",
    "    return list(set(element for element in a if element in b))"
   ]
  },
  {
   "cell_type": "code",
   "execution_count": 49,
   "metadata": {},
   "outputs": [
    {
     "data": {
      "text/plain": [
       "[1, 2, 3, 5, 8, 13]"
      ]
     },
     "execution_count": 49,
     "metadata": {},
     "output_type": "execute_result"
    }
   ],
   "source": [
    "find_common(a,b)"
   ]
  },
  {
   "cell_type": "markdown",
   "metadata": {},
   "source": [
    "\n",
    "Ask the user for a string and print out whether this string is a palindrome or not. (A palindrome is a string that reads the same forwards and backwards.)"
   ]
  },
  {
   "cell_type": "code",
   "execution_count": 59,
   "metadata": {},
   "outputs": [],
   "source": [
    "def palindrome(input: str) -> bool:\n",
    "    return input == input[-1::-1]"
   ]
  },
  {
   "cell_type": "markdown",
   "metadata": {},
   "source": [
    "play rock paper scissors"
   ]
  },
  {
   "cell_type": "code",
   "execution_count": 176,
   "metadata": {},
   "outputs": [
    {
     "name": "stdout",
     "output_type": "stream",
     "text": [
      "{'jose': 'r', 'esoj': 'r'}\n",
      "r r\n",
      "winning hand None\n",
      "set()\n"
     ]
    }
   ],
   "source": [
    "# simple game \n",
    "\n",
    "def rps_winnind_hand(hand1: str, hand2:str) -> str:\n",
    "    \"\"\"Returns winning hand. Not the winner\"\"\"\n",
    "    if hand1 == hand2:\n",
    "        return None\n",
    "    elif {hand1,hand2} == {'r','s'}:\n",
    "        return 'r'\n",
    "    elif {hand1,hand2} == {'r','p'}:\n",
    "        return 'p'\n",
    "    elif {hand1,hand2} == {'s','p'}:\n",
    "        return 's'\n",
    "\n",
    "\n",
    "CHOICES: list[str] = ['r','p','s']\n",
    "\n",
    "\n",
    "def make_player_choice(player1: str, player2:str) -> dict[str, str]:\n",
    "    player_details: dict[str,str] = {}\n",
    "    player_details[player1] = choice(CHOICES)\n",
    "    player_details[player2] = choice(CHOICES)\n",
    "\n",
    "    return player_details\n",
    "\n",
    "player_choices = make_player_choice('jose','esoj')\n",
    "print(player_choices)\n",
    "p1,p2 = player_choices.values()\n",
    "print(p1,p2)\n",
    "win_hand = rps_winnind_hand(p1, p2)\n",
    "print('winning hand', win_hand)\n",
    "winner = {win for win in player_choices if player_choices[win] == win_hand}\n",
    "print(winner)\n",
    "\n",
    "\n",
    "\n",
    "\n"
   ]
  },
  {
   "cell_type": "code",
   "execution_count": 94,
   "metadata": {},
   "outputs": [],
   "source": [
    "class Player:\n",
    "    HANDS: dict[str] = ['r','p','s']\n",
    "\n",
    "    def __init__(self,name: str) -> None:\n",
    "        self.name = name\n",
    "\n",
    "    def playerhand(self) -> str:\n",
    "        return choice(self.HANDS)"
   ]
  },
  {
   "cell_type": "code",
   "execution_count": null,
   "metadata": {},
   "outputs": [],
   "source": [
    "class Game:\n",
    "\n",
    "    def rockpaperscissors(hand1: Player, hand2: Player) -> str:\n",
    "        if {hand1,hand2} == {{'r','s'}}:\n",
    "            return 'r'\n",
    "        elif {hand1,hand2} == {'r','p'}:\n",
    "            return 's'\n",
    "        elif {hand1,hand2} == {'s','p'}:\n",
    "            return 'p'\n",
    "            \n",
    "\n",
    "\n",
    "\n",
    "    "
   ]
  },
  {
   "cell_type": "markdown",
   "metadata": {},
   "source": [
    "COUNT NUMBER OF ELEMENTS IN A LIST"
   ]
  },
  {
   "cell_type": "code",
   "execution_count": 186,
   "metadata": {},
   "outputs": [],
   "source": [
    "a = [1, 1, 2, 3, 5, 8, 13, 3, 34, 55, 1]"
   ]
  },
  {
   "cell_type": "code",
   "execution_count": 189,
   "metadata": {},
   "outputs": [],
   "source": [
    "accumulator = {}\n",
    "for element in a:\n",
    "    if element not in accumulator:\n",
    "        accumulator[element] = 1\n",
    "    else:\n",
    "        accumulator[element] = accumulator[element]  + 1\n"
   ]
  },
  {
   "cell_type": "code",
   "execution_count": 190,
   "metadata": {},
   "outputs": [
    {
     "data": {
      "text/plain": [
       "{1: 3, 2: 1, 3: 2, 5: 1, 8: 1, 13: 1, 34: 1, 55: 1}"
      ]
     },
     "execution_count": 190,
     "metadata": {},
     "output_type": "execute_result"
    }
   ],
   "source": [
    "accumulator"
   ]
  },
  {
   "cell_type": "markdown",
   "metadata": {},
   "source": [
    "Fibonacci"
   ]
  },
  {
   "cell_type": "code",
   "execution_count": 214,
   "metadata": {},
   "outputs": [],
   "source": [
    "def gen_fibonacci(n1: int, n2: int) -> int:\n",
    "    return n1 + n2\n",
    "\n",
    "def fib(limit: int) -> list[int]:\n",
    "    accumulator:list[int] = [1,1]\n",
    "    if limit == 0:\n",
    "        return []\n",
    "    elif limit == 1:\n",
    "        return [1]\n",
    "    elif limit == 2:\n",
    "        return [1,1]\n",
    "    counter = 2\n",
    "    while counter <limit:\n",
    "        accumulator.append(gen_fibonacci(accumulator[-1], accumulator[-2]))\n",
    "        counter += 1\n",
    "\n",
    "    return accumulator\n",
    "\n"
   ]
  },
  {
   "cell_type": "code",
   "execution_count": 223,
   "metadata": {},
   "outputs": [],
   "source": [
    "def fib_rec(limit: int)-> int:\n",
    "    if limit <= 1:\n",
    "        return limit\n",
    "    else:\n",
    "        return fib_rec(limit-1 ) + fib_rec(limit - 2)\n",
    "\n"
   ]
  },
  {
   "cell_type": "markdown",
   "metadata": {},
   "source": [
    "Write a program (function!) that takes a list and returns a new list that contains all the elements of the first list minus all the duplicates"
   ]
  },
  {
   "cell_type": "code",
   "execution_count": null,
   "metadata": {},
   "outputs": [],
   "source": [
    "# USING LOOPS\n",
    "names = [\"Michele\", \"Robin\", \"Sara\", \"Michele\"]\n",
    "accumulator: list[str] = []\n",
    "for name in names:\n",
    "    if name not in accumulator:\n",
    "        accumulator.append(name)\n"
   ]
  },
  {
   "cell_type": "markdown",
   "metadata": {},
   "source": [
    "Write a program (using functions!) that asks the user for a long string containing multiple words\n"
   ]
  },
  {
   "cell_type": "code",
   "execution_count": 236,
   "metadata": {},
   "outputs": [
    {
     "data": {
      "text/plain": [
       "'Michele is name My'"
      ]
     },
     "execution_count": 236,
     "metadata": {},
     "output_type": "execute_result"
    }
   ],
   "source": [
    "inp_string = \"My name is Michele\"\\\n",
    "\n",
    "def sentence_reverse(inputstr: str) -> str:\n",
    "    return ' '.join(inp_string.split(' ')[-1::-1])\n",
    "\n",
    "sentence_reverse(inp_string)"
   ]
  },
  {
   "cell_type": "markdown",
   "metadata": {},
   "source": [
    "DICT traversal"
   ]
  },
  {
   "cell_type": "code",
   "execution_count": 245,
   "metadata": {},
   "outputs": [],
   "source": [
    "test = {'a':1,\n",
    "        'b':'test',\n",
    "        'c':{'d':4,'e':5}}"
   ]
  },
  {
   "cell_type": "code",
   "execution_count": 275,
   "metadata": {},
   "outputs": [],
   "source": [
    "def dict_traversal(dictionary: dict[Any:Any]) -> Any:\n",
    "    for keys in dictionary.keys():\n",
    "        if type(dictionary[keys]) == dict:\n",
    "            yield from dict_traversal(dictionary[keys])\n",
    "        else:\n",
    "            yield keys"
   ]
  },
  {
   "cell_type": "code",
   "execution_count": 277,
   "metadata": {},
   "outputs": [
    {
     "name": "stdout",
     "output_type": "stream",
     "text": [
      "a\n",
      "b\n",
      "d\n",
      "e\n"
     ]
    }
   ],
   "source": [
    "for keys in dict_traversal(test):\n",
    "    print(keys)"
   ]
  },
  {
   "cell_type": "code",
   "execution_count": 283,
   "metadata": {},
   "outputs": [],
   "source": [
    "def dict_traversal2(dictionary: dict[Any:Any]) -> Any:\n",
    "    for keys,value in dictionary.items():\n",
    "        if type(value) is dict:\n",
    "            yield (keys, value)\n",
    "            yield from dict_traversal2(value)\n",
    "        else:\n",
    "            yield(keys,value)"
   ]
  },
  {
   "cell_type": "code",
   "execution_count": 284,
   "metadata": {},
   "outputs": [
    {
     "name": "stdout",
     "output_type": "stream",
     "text": [
      "a 1\n",
      "b test\n",
      "c {'d': 4, 'e': 5}\n",
      "d 4\n",
      "e 5\n"
     ]
    }
   ],
   "source": [
    "for keys,value in dict_traversal2(test):\n",
    "    print(keys,value)"
   ]
  },
  {
   "cell_type": "markdown",
   "metadata": {},
   "source": [
    "Max Of Three"
   ]
  },
  {
   "cell_type": "code",
   "execution_count": 291,
   "metadata": {},
   "outputs": [],
   "source": [
    "def max_of_n(input_list:list[int]) -> int:\n",
    "    max:int = input_list[0]\n",
    "    for elem in input_list:\n",
    "        if elem > max: max = elem\n",
    "    return max\n"
   ]
  },
  {
   "cell_type": "code",
   "execution_count": 293,
   "metadata": {},
   "outputs": [
    {
     "data": {
      "text/plain": [
       "17"
      ]
     },
     "execution_count": 293,
     "metadata": {},
     "output_type": "execute_result"
    }
   ],
   "source": [
    "a = [1,3,5,3,17,1]\n",
    "b = [-n for n in a]\n",
    "max_of_n(a)"
   ]
  },
  {
   "cell_type": "markdown",
   "metadata": {},
   "source": [
    "Draw n X n board\n",
    "\n",
    "3 X 3\n",
    " --- --- --- \n",
    "|   |   |   | \n",
    " --- --- ---  \n",
    "|   |   |   | \n",
    " --- --- ---  \n",
    "|   |   |   | \n",
    " --- --- --- "
   ]
  },
  {
   "cell_type": "code",
   "execution_count": 294,
   "metadata": {},
   "outputs": [],
   "source": [
    "def cell() -> str:\n",
    "    base =  '''\n",
    "     ---\n",
    "    |   |\n",
    "     --- \n",
    "    '''\n",
    "    horizontal = '''\n",
    "    ---\n",
    "        |\n",
    "    ---\n",
    "    '''\n",
    "    vertical = '''\n",
    "    |   |\n",
    "     ---\n",
    "    '''\n",
    "    "
   ]
  },
  {
   "cell_type": "code",
   "execution_count": 298,
   "metadata": {},
   "outputs": [
    {
     "name": "stdout",
     "output_type": "stream",
     "text": [
      "\n",
      "     ---\n",
      "    |   |\n",
      "     --- \n",
      "    \n",
      "     ---\n",
      "    |   |\n",
      "     --- \n",
      "    \n"
     ]
    }
   ],
   "source": [
    "print(cell() * 2)"
   ]
  },
  {
   "cell_type": "code",
   "execution_count": null,
   "metadata": {},
   "outputs": [],
   "source": []
  }
 ],
 "metadata": {
  "kernelspec": {
   "display_name": "Python 3.10.6 ('.venv_notebooks': venv)",
   "language": "python",
   "name": "python3"
  },
  "language_info": {
   "codemirror_mode": {
    "name": "ipython",
    "version": 3
   },
   "file_extension": ".py",
   "mimetype": "text/x-python",
   "name": "python",
   "nbconvert_exporter": "python",
   "pygments_lexer": "ipython3",
   "version": "3.10.6"
  },
  "orig_nbformat": 4,
  "vscode": {
   "interpreter": {
    "hash": "4f62a1b881c27a835edd7a0e53edba86a698e6829b70278904c5377c1600dac2"
   }
  }
 },
 "nbformat": 4,
 "nbformat_minor": 2
}
